{
  "nbformat": 4,
  "nbformat_minor": 0,
  "metadata": {
    "colab": {
      "name": "submission_ml_dadandw.ipynb",
      "provenance": []
    },
    "kernelspec": {
      "name": "python3",
      "display_name": "Python 3"
    },
    "language_info": {
      "name": "python"
    },
    "accelerator": "GPU"
  },
  "cells": [
    {
      "cell_type": "markdown",
      "metadata": {
        "id": "8ht0OGlnGPBM"
      },
      "source": [
        "**Nama : Dadan Dahman Wahidi**\n",
        "\n",
        "**Proyek Pertama : Membuat Model NLP dengan TensorFlow**"
      ]
    },
    {
      "cell_type": "markdown",
      "metadata": {
        "id": "Qc8F0pUvR_4V"
      },
      "source": [
        "Keterangan Proyek Akhir :\n",
        "\n",
        "    Dataset yang dipakai adalah bersumber dari : https://www.kaggle.com/atulanandjha/imdb-50k-movie-reviews-test-your-bert\n",
        "    Menggunakan LSTM dalam arsitektur model.\n",
        "    Menggunakan model sequential.\n",
        "    Validation set sebesar 20% dari total dataset.\n",
        "    Menggunakan Embedding.\n",
        "    Menggunakan model sequential.\n",
        "    Menggunakan fungsi tokenizer.\n",
        "    Mengimplementasikan Callback\n",
        "    Plot loss dan akurasi\n",
        "    Program dikerjakan pada Google Colaboratory.\n",
        "    Menggunakan bahasa pemrograman Python.\n"
      ]
    },
    {
      "cell_type": "markdown",
      "metadata": {
        "id": "nM2Uh2WQGzM0"
      },
      "source": [
        "# Multiclass Text Classification"
      ]
    },
    {
      "cell_type": "code",
      "metadata": {
        "colab": {
          "base_uri": "https://localhost:8080/"
        },
        "id": "_1B65B5ZDUcL",
        "outputId": "f992aaca-8a45-47e7-f9d2-75090ace984c"
      },
      "source": [
        "from google.colab import drive\n",
        "drive.mount('/content/drive/')"
      ],
      "execution_count": 35,
      "outputs": [
        {
          "output_type": "stream",
          "text": [
            "Drive already mounted at /content/drive/; to attempt to forcibly remount, call drive.mount(\"/content/drive/\", force_remount=True).\n"
          ],
          "name": "stdout"
        }
      ]
    },
    {
      "cell_type": "markdown",
      "metadata": {
        "id": "991TC0mYHDuU"
      },
      "source": [
        "Kita akan melakukan klasifikasi teks multikelas menggunakan lstm.\n",
        "\n",
        "Pada latihan ini kita akan menggunakan dataset yang berisi review beberapa film. Dataset dapat Anda unduh pada [tautan](https://www.kaggle.com/atulanandjha/imdb-50k-movie-reviews-test-your-bert) berikut.\n",
        "\n"
      ]
    },
    {
      "cell_type": "markdown",
      "metadata": {
        "id": "VYRZAuaJMn0S"
      },
      "source": [
        "### Load Dataset\n",
        "Pada cell pertama impor library pandas dan ubah dataset menjadi dataframe."
      ]
    },
    {
      "cell_type": "code",
      "metadata": {
        "id": "s6u4FI3aD2P4"
      },
      "source": [
        "import pandas as pd\n",
        "df = pd.read_csv('/content/drive/MyDrive/Colab Notebooks/dicoding/dataset/review_film.csv')"
      ],
      "execution_count": 36,
      "outputs": []
    },
    {
      "cell_type": "code",
      "metadata": {
        "colab": {
          "base_uri": "https://localhost:8080/",
          "height": 424
        },
        "id": "VMYaoQ3vH1ci",
        "outputId": "fcfdacb1-5413-484f-8454-d37ab06b59b7"
      },
      "source": [
        "df"
      ],
      "execution_count": 37,
      "outputs": [
        {
          "output_type": "execute_result",
          "data": {
            "text/html": [
              "<div>\n",
              "<style scoped>\n",
              "    .dataframe tbody tr th:only-of-type {\n",
              "        vertical-align: middle;\n",
              "    }\n",
              "\n",
              "    .dataframe tbody tr th {\n",
              "        vertical-align: top;\n",
              "    }\n",
              "\n",
              "    .dataframe thead th {\n",
              "        text-align: right;\n",
              "    }\n",
              "</style>\n",
              "<table border=\"1\" class=\"dataframe\">\n",
              "  <thead>\n",
              "    <tr style=\"text-align: right;\">\n",
              "      <th></th>\n",
              "      <th>text</th>\n",
              "      <th>sentiment</th>\n",
              "    </tr>\n",
              "  </thead>\n",
              "  <tbody>\n",
              "    <tr>\n",
              "      <th>0</th>\n",
              "      <td>Now, I won't deny that when I purchased this o...</td>\n",
              "      <td>neg</td>\n",
              "    </tr>\n",
              "    <tr>\n",
              "      <th>1</th>\n",
              "      <td>The saddest thing about this \"tribute\" is that...</td>\n",
              "      <td>neg</td>\n",
              "    </tr>\n",
              "    <tr>\n",
              "      <th>2</th>\n",
              "      <td>Last night I decided to watch the prequel or s...</td>\n",
              "      <td>neg</td>\n",
              "    </tr>\n",
              "    <tr>\n",
              "      <th>3</th>\n",
              "      <td>I have to admit that i liked the first half of...</td>\n",
              "      <td>neg</td>\n",
              "    </tr>\n",
              "    <tr>\n",
              "      <th>4</th>\n",
              "      <td>I was not impressed about this film especially...</td>\n",
              "      <td>neg</td>\n",
              "    </tr>\n",
              "    <tr>\n",
              "      <th>...</th>\n",
              "      <td>...</td>\n",
              "      <td>...</td>\n",
              "    </tr>\n",
              "    <tr>\n",
              "      <th>24995</th>\n",
              "      <td>This film is fun, if your a person who likes a...</td>\n",
              "      <td>pos</td>\n",
              "    </tr>\n",
              "    <tr>\n",
              "      <th>24996</th>\n",
              "      <td>After seeing this film I feel like I know just...</td>\n",
              "      <td>pos</td>\n",
              "    </tr>\n",
              "    <tr>\n",
              "      <th>24997</th>\n",
              "      <td>first this deserves about 5 stars due to actin...</td>\n",
              "      <td>neg</td>\n",
              "    </tr>\n",
              "    <tr>\n",
              "      <th>24998</th>\n",
              "      <td>If you like films that ramble with little plot...</td>\n",
              "      <td>neg</td>\n",
              "    </tr>\n",
              "    <tr>\n",
              "      <th>24999</th>\n",
              "      <td>As interesting as a sheet of cardboard, this d...</td>\n",
              "      <td>neg</td>\n",
              "    </tr>\n",
              "  </tbody>\n",
              "</table>\n",
              "<p>25000 rows × 2 columns</p>\n",
              "</div>"
            ],
            "text/plain": [
              "                                                    text sentiment\n",
              "0      Now, I won't deny that when I purchased this o...       neg\n",
              "1      The saddest thing about this \"tribute\" is that...       neg\n",
              "2      Last night I decided to watch the prequel or s...       neg\n",
              "3      I have to admit that i liked the first half of...       neg\n",
              "4      I was not impressed about this film especially...       neg\n",
              "...                                                  ...       ...\n",
              "24995  This film is fun, if your a person who likes a...       pos\n",
              "24996  After seeing this film I feel like I know just...       pos\n",
              "24997  first this deserves about 5 stars due to actin...       neg\n",
              "24998  If you like films that ramble with little plot...       neg\n",
              "24999  As interesting as a sheet of cardboard, this d...       neg\n",
              "\n",
              "[25000 rows x 2 columns]"
            ]
          },
          "metadata": {
            "tags": []
          },
          "execution_count": 37
        }
      ]
    },
    {
      "cell_type": "markdown",
      "metadata": {
        "id": "wh5OhpjeSzaZ"
      },
      "source": [
        "### Callback\n",
        "Kemudian kita buat function callback, fungsinya untuk mencegah adanya overfitting dan menghentikan training setelah selesai mengakurasi."
      ]
    },
    {
      "cell_type": "code",
      "metadata": {
        "id": "0E13_kGXS65Y"
      },
      "source": [
        "class myCallback(tf.keras.callbacks.Callback):\n",
        "  def on_epoch_end(self, epoch, logs={}):\n",
        "    if(logs.get('accuracy') > 0.95):\n",
        "      print(\"\\nAkurasi di atas 95%, Training Berhenti!\")\n",
        "      self.model.stop_training = True\n",
        "\n",
        "callbacks = myCallback()"
      ],
      "execution_count": 48,
      "outputs": []
    },
    {
      "cell_type": "markdown",
      "metadata": {
        "id": "PNo7qF6_NqKE"
      },
      "source": [
        "### Encoding"
      ]
    },
    {
      "cell_type": "markdown",
      "metadata": {
        "id": "b0ioGNjuNPxC"
      },
      "source": [
        "Ubah bentuk data pada kolom sentiment menjadi bentuk angka untuk labeling setiap data."
      ]
    },
    {
      "cell_type": "code",
      "metadata": {
        "id": "BcbiyFxlH8t_"
      },
      "source": [
        "cat = pd.get_dummies(df.sentiment)\n",
        "df = pd.concat([df, cat], axis=1)\n",
        "df = df.drop(columns='sentiment')"
      ],
      "execution_count": 38,
      "outputs": []
    },
    {
      "cell_type": "code",
      "metadata": {
        "id": "6iCAEO52IDEL",
        "colab": {
          "base_uri": "https://localhost:8080/",
          "height": 424
        },
        "outputId": "a59de4d3-96c7-4ece-e440-1761bd97ebcf"
      },
      "source": [
        "df"
      ],
      "execution_count": 39,
      "outputs": [
        {
          "output_type": "execute_result",
          "data": {
            "text/html": [
              "<div>\n",
              "<style scoped>\n",
              "    .dataframe tbody tr th:only-of-type {\n",
              "        vertical-align: middle;\n",
              "    }\n",
              "\n",
              "    .dataframe tbody tr th {\n",
              "        vertical-align: top;\n",
              "    }\n",
              "\n",
              "    .dataframe thead th {\n",
              "        text-align: right;\n",
              "    }\n",
              "</style>\n",
              "<table border=\"1\" class=\"dataframe\">\n",
              "  <thead>\n",
              "    <tr style=\"text-align: right;\">\n",
              "      <th></th>\n",
              "      <th>text</th>\n",
              "      <th>neg</th>\n",
              "      <th>pos</th>\n",
              "    </tr>\n",
              "  </thead>\n",
              "  <tbody>\n",
              "    <tr>\n",
              "      <th>0</th>\n",
              "      <td>Now, I won't deny that when I purchased this o...</td>\n",
              "      <td>1</td>\n",
              "      <td>0</td>\n",
              "    </tr>\n",
              "    <tr>\n",
              "      <th>1</th>\n",
              "      <td>The saddest thing about this \"tribute\" is that...</td>\n",
              "      <td>1</td>\n",
              "      <td>0</td>\n",
              "    </tr>\n",
              "    <tr>\n",
              "      <th>2</th>\n",
              "      <td>Last night I decided to watch the prequel or s...</td>\n",
              "      <td>1</td>\n",
              "      <td>0</td>\n",
              "    </tr>\n",
              "    <tr>\n",
              "      <th>3</th>\n",
              "      <td>I have to admit that i liked the first half of...</td>\n",
              "      <td>1</td>\n",
              "      <td>0</td>\n",
              "    </tr>\n",
              "    <tr>\n",
              "      <th>4</th>\n",
              "      <td>I was not impressed about this film especially...</td>\n",
              "      <td>1</td>\n",
              "      <td>0</td>\n",
              "    </tr>\n",
              "    <tr>\n",
              "      <th>...</th>\n",
              "      <td>...</td>\n",
              "      <td>...</td>\n",
              "      <td>...</td>\n",
              "    </tr>\n",
              "    <tr>\n",
              "      <th>24995</th>\n",
              "      <td>This film is fun, if your a person who likes a...</td>\n",
              "      <td>0</td>\n",
              "      <td>1</td>\n",
              "    </tr>\n",
              "    <tr>\n",
              "      <th>24996</th>\n",
              "      <td>After seeing this film I feel like I know just...</td>\n",
              "      <td>0</td>\n",
              "      <td>1</td>\n",
              "    </tr>\n",
              "    <tr>\n",
              "      <th>24997</th>\n",
              "      <td>first this deserves about 5 stars due to actin...</td>\n",
              "      <td>1</td>\n",
              "      <td>0</td>\n",
              "    </tr>\n",
              "    <tr>\n",
              "      <th>24998</th>\n",
              "      <td>If you like films that ramble with little plot...</td>\n",
              "      <td>1</td>\n",
              "      <td>0</td>\n",
              "    </tr>\n",
              "    <tr>\n",
              "      <th>24999</th>\n",
              "      <td>As interesting as a sheet of cardboard, this d...</td>\n",
              "      <td>1</td>\n",
              "      <td>0</td>\n",
              "    </tr>\n",
              "  </tbody>\n",
              "</table>\n",
              "<p>25000 rows × 3 columns</p>\n",
              "</div>"
            ],
            "text/plain": [
              "                                                    text  neg  pos\n",
              "0      Now, I won't deny that when I purchased this o...    1    0\n",
              "1      The saddest thing about this \"tribute\" is that...    1    0\n",
              "2      Last night I decided to watch the prequel or s...    1    0\n",
              "3      I have to admit that i liked the first half of...    1    0\n",
              "4      I was not impressed about this film especially...    1    0\n",
              "...                                                  ...  ...  ...\n",
              "24995  This film is fun, if your a person who likes a...    0    1\n",
              "24996  After seeing this film I feel like I know just...    0    1\n",
              "24997  first this deserves about 5 stars due to actin...    1    0\n",
              "24998  If you like films that ramble with little plot...    1    0\n",
              "24999  As interesting as a sheet of cardboard, this d...    1    0\n",
              "\n",
              "[25000 rows x 3 columns]"
            ]
          },
          "metadata": {
            "tags": []
          },
          "execution_count": 39
        }
      ]
    },
    {
      "cell_type": "markdown",
      "metadata": {
        "id": "NTDkSoGCN3T8"
      },
      "source": [
        "### Split Dataframe\n",
        "\n",
        "Agar dapat diproses oleh model, kita perlu mengubah nilai-nilai dari dataframe ke dalam tipe data numpy array menggunakan atribut values."
      ]
    },
    {
      "cell_type": "code",
      "metadata": {
        "id": "QSe-vLcdNirC"
      },
      "source": [
        "review = df['text'].values\n",
        "label = df[['neg', 'pos']].values"
      ],
      "execution_count": 40,
      "outputs": []
    },
    {
      "cell_type": "code",
      "metadata": {
        "colab": {
          "base_uri": "https://localhost:8080/"
        },
        "id": "lU47RlXbOTDu",
        "outputId": "4bd27e7d-b717-424a-999b-4050a96ce24e"
      },
      "source": [
        "review"
      ],
      "execution_count": 41,
      "outputs": [
        {
          "output_type": "execute_result",
          "data": {
            "text/plain": [
              "array([\"Now, I won't deny that when I purchased this off eBay, I had high expectations. This was an incredible out-of-print work from the master of comedy that I so enjoy. However, I was soon to be disappointed. Apologies to those who enjoyed it, but I just found the Compleat Al to be very difficult to watch. I got a few smiles, sure, but the majority of the funny came from the music videos (which I've got on DVD) and the rest was basically filler. You could tell that this was not Al's greatest video achievement (that honor goes to UHF). Honestly, I doubt if this will ever make the jump to DVD, so if you're an ultra-hardcore Al fan and just HAVE to own everything, buy the tape off eBay. Just don't pay too much for it.\",\n",
              "       'The saddest thing about this \"tribute\" is that almost all the singers (including the otherwise incredibly talented Nick Cave) seem to have missed the whole point where Cohen\\'s intensity lies: by delivering his lines in an almost tuneless poise, Cohen transmits the full extent of his poetry, his irony, his all-round humanity, laughter and tears in one.<br /><br />To see some of these singer upstarts make convoluted suffering faces, launch their pathetic squeals in the patent effort to scream \"I\\'m a singer!,\" is a true pain. It\\'s the same feeling many of you probably had listening in to some horrendous operatic versions of simple songs such as Lennon\\'s \"Imagine.\" Nothing, simply nothing gets close to the simplicity and directness of the original. If there is a form of art that doesn\\'t need embellishments, it\\'s Cohen\\'s art. Embellishments cast it in the street looking like the tasteless make-up of sex for sale.<br /><br />In this Cohen\\'s tribute I found myself suffering and suffering through pitiful tributes and awful reinterpretations, all of them entirely lacking the original irony of the master and, if truth be told, several of these singers sounded as if they had been recruited at some asylum talent show. It\\'s Cohen doing a tribute to them by letting them sing his material, really, not the other way around: they may have been friends, or his daughter\\'s, he could have become very tender-hearted and in the mood for a gift. Too bad it didn\\'t stay in the family.<br /><br />Fortunately, but only at the very end, Cohen himself performed his majestic \"Tower of Song,\" but even that flower was spoiled by the totally incongruous background of the U2, all of them carrying the expression that bored kids have when they visit their poor grandpa at the nursing home.<br /><br />A sad show, really, and sadder if you truly love Cohen as I do.',\n",
              "       'Last night I decided to watch the prequel or shall I say the so called prequel to Carlito\\'s Way - \"Carlito\\'s Way: Rise to Power (2005)\" which went straight to DVD...no wonder .....it completely ...and I mean completely S%&KS !!! waist of time watching it and I think it would be a pure waist of time writing about it.... I don\\'t understand how De Palma agreed on producing this sh#t-fest of a movie....except for only one fact that I tip my hat to... Jay Hernandez who plays the young Brigante.... reminded me how De Niro got into the shoes of Brando to portray the young Don Corleone in Godfather II ...but the difference De Niro was amazing and even got an Oscar for it !!! Jay Hernandez well he has guts for trying to be a young Pacino.... too bad for him I don\\'t think he will be playing in film anymore and by the way after I watched this sh#$%ty movie, I sat down and watched the original Carlitos way to get the bad taste out of my mouth.',\n",
              "       ...,\n",
              "       'first this deserves about 5 stars due to acting (some which would give me a better subjective opinion and NOT an objective one as it should by giving this one, WELL DESERVED, star) but then i know that those facts are used for the actor(S) NAMES to increase the rating of something like this...<br /><br />i do have a problem with such productions; yet another attempt (just like \"untraceable\") of a systematic propagandistic feature promoting government intrusion on your rights( how interesting that it comes at a moment when IPS providers trying to \"preferentiate\" = CENSOR information, and the Americans and Canadians are fighting AGAINST that at this very moments). this time is not by labeling torrent file transfers as evil ( that one was intended to remind you of such feeling whenever you transfer data on the net), but by literally attempting in creating a sexual frustrated population as a whole. SEEMS LIKE FEAR PROMOTION IS HOLLYWOOD\\'S NORM THIS DAYS, especially when coming to thrillers which is the most \"on demand\" motion picture genre for past 2 decades or so = most viewed, best way to try influence the society as a whole. such levels of violence are depicted in this 2 features of morally and \"ethical\" people, that it gives a new much needed meaning to \"anti-heroes\" figures. make no mistake , this is NOT \"DEXTER\" which was meant to be high-quality entertainment.STOP SELLING \"FEAR\" please, the world would be a better place without it and the dollars made of it.<br /><br />the opening scene and generally the first 10 minutes really give a frightful picture of an Erroll Babbage that is CLEARLLY suffering of sexual frustration. the way he handles the black male is very disturbing if not outright racist(for sure a \"cliche\" at least) ( in real life someone would probably get a beating for it, you will see what i mean). the second scene ( with Claire Danes\\'s character present) is even more extreme. at that point i realized, in my opinion that Erroll Babbage is a very dangerous individual to people around him.how many people, that have seen or will see this movie, have never been \"hold down\"(regarding BOTH sexes) out of self, COMMON gratification!?.typically the movie gives an extreme CRIMINAL case(that unfortunately did, is and will likely happen again sometime , somewhere) BUT fingers everyone else indirectly as well as \"you could become that\", etc. anyone that is familiar with Sigmund Freud and Jung will know very well that sexuality is not something to be judged let alone \"asses\" , by such fanatical \"hero\" here. SAFE sex in its many forms IS healthy and not some evil that apparently Richard Gere character is obsessed with , on his way for some sexual \"crusade\". have we not learned anything from the abundant recent scandals involving priests and young boys!? or for how long an American teenager can see extreme violence on \"pg-13\" but he can not even see a woman breast until \"R-18\"!?!?( yet the industry targets them with this VERY SAME sexual perversions like \"american pie\" series for example).raise the kids tester-one levels but frustrate them and drive them underground in developing fetishes to UNhealthy EXTREMES!? all sexual activities(upon MUTUAL acceptance) integrates individuals better then some \"rightous\" nut-case, THAT blames his misfortunes and shortcomings on \"the lives of others\"( a new German movie that would work great in comparing this 2 distinct and world apart features on the very same subject).here, like in that movie, you will probably appreciate the actors for well portraying the opposite of what they should have been.<br /><br />i am very disappointed with Richard Gere especially after the recent \" hunting party\", a feature where he really shines and about a more realistic \"hero\"( after real facts as well).but then it just reminds me that all those people are only actors that get paid to play someone\\'s political and social agenda. \"the flock\" and \"untraceable\" 2 heads of the same hidden beast)))it just reminds you, if know anyone with similar views on the subject as a WHOLE, as Erroll Babbage has those here, to stay clear of them for THEIR own safety.they would kill my family faster then any 0.00001 chances of Paul Jerrod in anyone\\'s life would...<br /><br />in the end i recommend this to anyone thinking negative here about MY \"assesment\" of this particular movie ( and \"untraceable\" actually), so you can likely have similar thoughts as i did. nothing sweeter then a propagandistic movie shooting itself in the \"foot\".))))for once i agree with the rating, this is not a feature for teenagers or kids; simply because at best would confuse them even more then the \"common\" belief of \"money+fame+fashion\" and how that relates to sexuality. \"scream\" series and movies as such AT LEAST have a defined entertainment value(even if a dumb one in my opinion). but this one is just another \"trust me i know what is good for you\" deeply (not so well done i might add) subliminal messages.',\n",
              "       'If you like films that ramble with little plot exposition spiced with kinky sex, this film is for you. On the plus side the lead actor/actress (newcomer transsexual) does have an interesting screen presence, but not enough to add up to much more than a mildly interesting movie - if that. Essentially this film is about 3 social outcasts (transexual prostitute, male hustler, and Russian,gay immigrant) who somehow have developed a bond. Why is not clear. We are expected to accept these misfits are at the core basic honest people who have the ability to love while they hustle their bodies on the street. Right!! And Anna Nicole Smith was truly in love with her ninety something sugar daddy! The filmmaker shows a gritty, unpleasant side of life while wanting us to believe underneath it all these seriously damaged people are really quite normal to the extent they have a menage a trois which helps them through life. Quite a fantasy, but unfortunately portrayed here as real look of life on the wild side. In sum, no plot, no truth and no real reason to spend much time here. Unless of course you just like to revel in the kink!!!',\n",
              "       \"As interesting as a sheet of cardboard, this dispensable period piece has little going for it. It's overly wordy and fails spectacularly to evoke the tension and fear that the real-life characters must have felt as they dodged the French Revolution's fickle hand of justice. Eric Rohmer at 82? It shows.\"],\n",
              "      dtype=object)"
            ]
          },
          "metadata": {
            "tags": []
          },
          "execution_count": 41
        }
      ]
    },
    {
      "cell_type": "code",
      "metadata": {
        "colab": {
          "base_uri": "https://localhost:8080/"
        },
        "id": "nXqydtPeOkLr",
        "outputId": "b7dffc8b-c072-4f9c-9815-586340c052b3"
      },
      "source": [
        "label"
      ],
      "execution_count": 42,
      "outputs": [
        {
          "output_type": "execute_result",
          "data": {
            "text/plain": [
              "array([[1, 0],\n",
              "       [1, 0],\n",
              "       [1, 0],\n",
              "       ...,\n",
              "       [1, 0],\n",
              "       [1, 0],\n",
              "       [1, 0]], dtype=uint8)"
            ]
          },
          "metadata": {
            "tags": []
          },
          "execution_count": 42
        }
      ]
    },
    {
      "cell_type": "code",
      "metadata": {
        "id": "ZcRjTA6JOlzk"
      },
      "source": [
        "from sklearn.model_selection import train_test_split\n",
        "\n",
        "text = df['text'].values\n",
        "y = df[['pos','neg']].values\n",
        "text_train , text_test, y_train, y_test = train_test_split(text, y, test_size=0.2)"
      ],
      "execution_count": 43,
      "outputs": []
    },
    {
      "cell_type": "markdown",
      "metadata": {
        "id": "1ANq3HJ-O5e3"
      },
      "source": [
        "### Tokenizer\n",
        "Kemudian kita ubah setiap kata pada dataset kita ke dalam bilangan numerik dengan fungsi Tokenizer. Setelah tokenisasi selesai, kita perlu membuat mengonversi setiap sampel menjadi sequence."
      ]
    },
    {
      "cell_type": "code",
      "metadata": {
        "id": "7G-HpidnOuHv"
      },
      "source": [
        "from tensorflow.keras.preprocessing.text import Tokenizer\n",
        "from tensorflow.keras.preprocessing.sequence import pad_sequences\n",
        "\n",
        "#tokenizer\n",
        "tokenizer = Tokenizer(num_words=280617, oov_token='-')\n",
        "tokenizer.fit_on_texts(text_train)\n",
        "tokenizer.fit_on_texts(text_test)\n",
        "\n",
        "#sequences\n",
        "seq_train = tokenizer.texts_to_sequences(text_train)\n",
        "seq_test = tokenizer.texts_to_sequences(text_test)\n",
        "\n",
        "#padding\n",
        "pad_train = pad_sequences(seq_train,\n",
        "                          maxlen=300,\n",
        "                          padding='post',\n",
        "                          truncating='post')\n",
        "\n",
        "pad_test = pad_sequences(seq_test,\n",
        "                         maxlen=300,\n",
        "                         padding='post',\n",
        "                         truncating='post')"
      ],
      "execution_count": 44,
      "outputs": []
    },
    {
      "cell_type": "markdown",
      "metadata": {
        "id": "uCxpboD8Pv5h"
      },
      "source": [
        "### Embedding"
      ]
    },
    {
      "cell_type": "markdown",
      "metadata": {
        "id": "M1klslDlP1RX"
      },
      "source": [
        "Untuk arsitektur model kita menggunakan layer Embedding dengan dimensi embedding sebesar 16, serta dimensi dari input sebesar nilai num_words pada objek tokenizer. Jangan lupa panggil fungsi compile dan tentukan optimizer serta loss function yang akan dipakai oleh model."
      ]
    },
    {
      "cell_type": "code",
      "metadata": {
        "colab": {
          "base_uri": "https://localhost:8080/"
        },
        "id": "f6sfzcLRPGa0",
        "outputId": "58f8abc4-5532-40b0-ae13-da91648e69c1"
      },
      "source": [
        "from tensorflow.keras import layers\n",
        "from tensorflow.keras import Sequential\n",
        "\n",
        "model = Sequential([layers.Embedding(280617, 64, input_length=300),\n",
        "                    layers.LSTM(64, dropout=0.1),\n",
        "                    layers.Dense(128, activation='relu'),\n",
        "                    layers.Dense(64, activation='relu'),\n",
        "                    layers.Dense(2, activation='sigmoid')])\n",
        "model.summary()"
      ],
      "execution_count": 45,
      "outputs": [
        {
          "output_type": "stream",
          "text": [
            "Model: \"sequential_2\"\n",
            "_________________________________________________________________\n",
            "Layer (type)                 Output Shape              Param #   \n",
            "=================================================================\n",
            "embedding_2 (Embedding)      (None, 300, 64)           17959488  \n",
            "_________________________________________________________________\n",
            "lstm_2 (LSTM)                (None, 64)                33024     \n",
            "_________________________________________________________________\n",
            "dense_6 (Dense)              (None, 128)               8320      \n",
            "_________________________________________________________________\n",
            "dense_7 (Dense)              (None, 64)                8256      \n",
            "_________________________________________________________________\n",
            "dense_8 (Dense)              (None, 2)                 130       \n",
            "=================================================================\n",
            "Total params: 18,009,218\n",
            "Trainable params: 18,009,218\n",
            "Non-trainable params: 0\n",
            "_________________________________________________________________\n"
          ],
          "name": "stdout"
        }
      ]
    },
    {
      "cell_type": "markdown",
      "metadata": {
        "id": "BZe1_ioiQzOt"
      },
      "source": [
        "# Training Model\n",
        "Terakhir kita dapat mulai melatih model kita dengan memanggil fungsi fit()."
      ]
    },
    {
      "cell_type": "code",
      "metadata": {
        "id": "7E5vHlRJQ940"
      },
      "source": [
        "model.compile(loss='binary_crossentropy',optimizer='adam',metrics=['accuracy'])"
      ],
      "execution_count": 47,
      "outputs": []
    },
    {
      "cell_type": "code",
      "metadata": {
        "colab": {
          "base_uri": "https://localhost:8080/"
        },
        "id": "c-jlBSR_QaQZ",
        "outputId": "afaf9037-9e29-4974-e18f-d4f4384f48b3"
      },
      "source": [
        "history = model.fit(pad_train, y_train,\n",
        "                    batch_size=128,\n",
        "                    epochs=30,\n",
        "                    validation_data=(pad_test, y_test),\n",
        "                    verbose=2,\n",
        "                    callbacks=[callbacks])"
      ],
      "execution_count": 49,
      "outputs": [
        {
          "output_type": "stream",
          "text": [
            "Epoch 1/30\n",
            "157/157 - 39s - loss: 0.6914 - accuracy: 0.5221 - val_loss: 0.6903 - val_accuracy: 0.4858\n",
            "Epoch 2/30\n",
            "157/157 - 30s - loss: 0.6871 - accuracy: 0.5137 - val_loss: 0.6889 - val_accuracy: 0.5242\n",
            "Epoch 3/30\n",
            "157/157 - 30s - loss: 0.6853 - accuracy: 0.5307 - val_loss: 0.6830 - val_accuracy: 0.5154\n",
            "Epoch 4/30\n",
            "157/157 - 30s - loss: 0.6305 - accuracy: 0.5974 - val_loss: 0.6694 - val_accuracy: 0.6152\n",
            "Epoch 5/30\n",
            "157/157 - 30s - loss: 0.6114 - accuracy: 0.6000 - val_loss: 0.7553 - val_accuracy: 0.5378\n",
            "Epoch 6/30\n",
            "157/157 - 30s - loss: 0.5574 - accuracy: 0.6230 - val_loss: 0.7113 - val_accuracy: 0.5766\n",
            "Epoch 7/30\n",
            "157/157 - 30s - loss: 0.5523 - accuracy: 0.6769 - val_loss: 0.5991 - val_accuracy: 0.7634\n",
            "Epoch 8/30\n",
            "157/157 - 30s - loss: 0.4695 - accuracy: 0.7465 - val_loss: 0.7356 - val_accuracy: 0.5636\n",
            "Epoch 9/30\n",
            "157/157 - 30s - loss: 0.5302 - accuracy: 0.6378 - val_loss: 0.7689 - val_accuracy: 0.5508\n",
            "Epoch 10/30\n",
            "157/157 - 30s - loss: 0.4629 - accuracy: 0.7850 - val_loss: 0.5706 - val_accuracy: 0.7846\n",
            "Epoch 11/30\n",
            "157/157 - 30s - loss: 0.5728 - accuracy: 0.6350 - val_loss: 0.7614 - val_accuracy: 0.5406\n",
            "Epoch 12/30\n",
            "157/157 - 30s - loss: 0.5175 - accuracy: 0.6406 - val_loss: 0.8223 - val_accuracy: 0.5708\n",
            "Epoch 13/30\n",
            "157/157 - 30s - loss: 0.5180 - accuracy: 0.7098 - val_loss: 0.6450 - val_accuracy: 0.7364\n",
            "Epoch 14/30\n",
            "157/157 - 30s - loss: 0.4839 - accuracy: 0.7714 - val_loss: 0.6826 - val_accuracy: 0.6348\n",
            "Epoch 15/30\n",
            "157/157 - 30s - loss: 0.4965 - accuracy: 0.7319 - val_loss: 0.7616 - val_accuracy: 0.6708\n",
            "Epoch 16/30\n",
            "157/157 - 30s - loss: 0.4614 - accuracy: 0.7544 - val_loss: 0.7951 - val_accuracy: 0.6692\n",
            "Epoch 17/30\n",
            "157/157 - 30s - loss: 0.4504 - accuracy: 0.7545 - val_loss: 0.7853 - val_accuracy: 0.6726\n",
            "Epoch 18/30\n",
            "157/157 - 30s - loss: 0.4365 - accuracy: 0.7968 - val_loss: 0.6940 - val_accuracy: 0.7438\n",
            "Epoch 19/30\n",
            "157/157 - 30s - loss: 0.3725 - accuracy: 0.8456 - val_loss: 0.7640 - val_accuracy: 0.7626\n",
            "Epoch 20/30\n",
            "157/157 - 30s - loss: 0.3623 - accuracy: 0.8571 - val_loss: 0.7234 - val_accuracy: 0.7732\n",
            "Epoch 21/30\n",
            "157/157 - 30s - loss: 0.3498 - accuracy: 0.8622 - val_loss: 0.7787 - val_accuracy: 0.7818\n",
            "Epoch 22/30\n",
            "157/157 - 30s - loss: 0.4287 - accuracy: 0.8332 - val_loss: 0.6597 - val_accuracy: 0.7150\n",
            "Epoch 23/30\n",
            "157/157 - 30s - loss: 0.3706 - accuracy: 0.8605 - val_loss: 0.6654 - val_accuracy: 0.7826\n",
            "Epoch 24/30\n",
            "157/157 - 30s - loss: 0.3562 - accuracy: 0.8630 - val_loss: 0.6714 - val_accuracy: 0.7598\n",
            "Epoch 25/30\n",
            "157/157 - 30s - loss: 0.3380 - accuracy: 0.8715 - val_loss: 0.7140 - val_accuracy: 0.7850\n",
            "Epoch 26/30\n",
            "157/157 - 30s - loss: 0.3146 - accuracy: 0.8757 - val_loss: 0.8460 - val_accuracy: 0.7856\n",
            "Epoch 27/30\n",
            "157/157 - 30s - loss: 0.4414 - accuracy: 0.7865 - val_loss: 0.7941 - val_accuracy: 0.7612\n",
            "Epoch 28/30\n",
            "157/157 - 30s - loss: 0.3334 - accuracy: 0.8728 - val_loss: 0.7768 - val_accuracy: 0.7686\n",
            "Epoch 29/30\n",
            "157/157 - 30s - loss: 0.3279 - accuracy: 0.8744 - val_loss: 0.8311 - val_accuracy: 0.7714\n",
            "Epoch 30/30\n",
            "157/157 - 30s - loss: 0.3169 - accuracy: 0.8809 - val_loss: 0.7563 - val_accuracy: 0.7746\n"
          ],
          "name": "stdout"
        }
      ]
    },
    {
      "cell_type": "markdown",
      "metadata": {
        "id": "Bj5DzI9wWnHK"
      },
      "source": [
        "### Evaluation Model\n",
        "Gunakan library matplotlib untuk membuat plot model"
      ]
    },
    {
      "cell_type": "code",
      "metadata": {
        "colab": {
          "base_uri": "https://localhost:8080/",
          "height": 295
        },
        "id": "5jgoVrvZTFAH",
        "outputId": "9c46da13-23ec-47e2-e5bb-742b56ab87fb"
      },
      "source": [
        "import matplotlib.pyplot as plt\n",
        "\n",
        "plt.plot(history.history['accuracy'])\n",
        "plt.plot(history.history['val_accuracy'])\n",
        "\n",
        "plt.title('Model Accuracy')\n",
        "plt.ylabel('Accuracy')\n",
        "plt.xlabel('Epoch')\n",
        "\n",
        "plt.legend(['Train', 'Test'], loc='lower right')\n",
        "plt.show()\n"
      ],
      "execution_count": 52,
      "outputs": [
        {
          "output_type": "display_data",
          "data": {
            "image/png": "[encoded data removed]",
            "text/plain": [
              "<Figure size 432x288 with 1 Axes>"
            ]
          },
          "metadata": {
            "tags": [],
            "needs_background": "light"
          }
        }
      ]
    },
    {
      "cell_type": "code",
      "metadata": {
        "id": "1DM_0-GMW1wh"
      },
      "source": [
        ""
      ],
      "execution_count": null,
      "outputs": []
    }
  ]
}